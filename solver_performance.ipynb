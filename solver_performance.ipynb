{
 "cells": [
  {
   "cell_type": "markdown",
   "id": "7f6f5a13-e250-45bc-b45e-ddb9a8f320db",
   "metadata": {
    "tags": []
   },
   "source": [
    "# Performance of semantle solvers and similarity models\n",
    "\n",
    "Compare solvers with a sequence of guesses from people"
   ]
  },
  {
   "cell_type": "code",
   "execution_count": 1,
   "id": "56d19744-72ee-4dbf-b3bf-8e1b6c7ae86c",
   "metadata": {},
   "outputs": [],
   "source": [
    "import matplotlib.pyplot as plt\n",
    "import numpy as np\n",
    "import pandas as pd\n",
    "\n",
    "from cohort_bayes_solver import CohortBayesSolver\n",
    "from gradient_solver import GradientSolver\n",
    "from gradient_solver_2 import GradientSolver2\n",
    "from semantle_simulator import SemantleSimulator\n",
    "import vocabulary as voc\n",
    "import similarity_model as sm\n",
    "import performance as perf"
   ]
  },
  {
   "cell_type": "code",
   "execution_count": 7,
   "id": "8055d58d-77cc-49bf-93aa-dbc70a980526",
   "metadata": {},
   "outputs": [
    {
     "data": {
      "text/plain": [
       "<module 'vocabulary' from '/Users/dcolls/workspace/semantic/vocabulary.py'>"
      ]
     },
     "execution_count": 7,
     "metadata": {},
     "output_type": "execute_result"
    }
   ],
   "source": [
    "import importlib\n",
    "importlib.reload(voc)"
   ]
  },
  {
   "cell_type": "markdown",
   "id": "c0c8ba63-a36c-4512-a93e-ce178ff6c586",
   "metadata": {},
   "source": [
    "## Simulator for semantle"
   ]
  },
  {
   "cell_type": "code",
   "execution_count": 2,
   "id": "55c85242-1540-4c22-ae70-c5581403a0d5",
   "metadata": {},
   "outputs": [],
   "source": [
    "sem_sim = SemantleSimulator()"
   ]
  },
  {
   "cell_type": "code",
   "execution_count": 3,
   "id": "bdc9336e-8e0e-4c67-ba11-a139846683b6",
   "metadata": {},
   "outputs": [],
   "source": [
    "sample_targets = ['terrible', 'dear', 'habitat', 'carrot', 'gather', 'amendment', 'worried', 'significant']\n",
    "sem_sim.target = sample_targets[3]"
   ]
  },
  {
   "cell_type": "markdown",
   "id": "d1adc917-d835-481d-9577-b35d8695b83a",
   "metadata": {},
   "source": [
    "## Agent similarity model"
   ]
  },
  {
   "cell_type": "code",
   "execution_count": 8,
   "id": "e50b81bf-0169-429f-ad60-7e9657f10973",
   "metadata": {},
   "outputs": [],
   "source": [
    "base_vocabulary_ews = voc.VocabularyEWS()\n",
    "voc.add_missing_words(base_vocabulary_ews, sample_targets)\n",
    "\n",
    "base_vocabulary_uf = voc.VocabularyUF()\n",
    "voc.add_missing_words(base_vocabulary_uf, sample_targets)\n",
    "\n",
    "similarity_ews = sm.SimilarityModelW2V(base_vocabulary_ews, sem_sim.wv)\n",
    "similarity_uf = sm.SimilarityModelW2V(base_vocabulary_uf, sem_sim.wv)"
   ]
  },
  {
   "cell_type": "markdown",
   "id": "f3f7446c-0a4e-457a-b4b5-33170af165a9",
   "metadata": {},
   "source": [
    "## Evaluate performance"
   ]
  },
  {
   "cell_type": "code",
   "execution_count": 11,
   "id": "5ae33df8-db0e-43ed-ae77-7fa64d8abfa8",
   "metadata": {},
   "outputs": [],
   "source": [
    "ctor = lambda: CohortBayesSolver(similarity_ews, precision=0.1, recall=0.5)\n",
    "trial_ews = perf.run_trial(ctor, sem_sim, n=10, target_pool=sample_targets)\n",
    "\n",
    "ctor = lambda: CohortBayesSolver(similarity_uf, precision=0.1, recall=0.5)\n",
    "trial_uf = perf.run_trial(ctor, sem_sim, n=10, target_pool=sample_targets)"
   ]
  },
  {
   "cell_type": "code",
   "execution_count": 12,
   "id": "fbcce6d7-6500-43e0-a720-96cec142b37c",
   "metadata": {},
   "outputs": [
    {
     "data": {
      "text/plain": [
       "(34.6, 40.1)"
      ]
     },
     "execution_count": 12,
     "metadata": {},
     "output_type": "execute_result"
    }
   ],
   "source": [
    "np.mean(trial_ews), np.mean(trial_uf)"
   ]
  },
  {
   "cell_type": "code",
   "execution_count": 13,
   "id": "c6a9ef06-c1b6-465d-ac36-cf5ae94f1abc",
   "metadata": {},
   "outputs": [
    {
     "data": {
      "image/png": "[encoded data removed]",
      "text/plain": [
       "<Figure size 648x432 with 1 Axes>"
      ]
     },
     "metadata": {
      "needs_background": "light"
     },
     "output_type": "display_data"
    }
   ],
   "source": [
    "import matplotlib.pyplot as plt\n",
    "\n",
    "plt.figure(figsize=(9,6))\n",
    "plt.hist(trial_uf, alpha=0.5, bins=25, zorder=100)\n",
    "plt.hist(trial_ews, alpha=0.5, bins=25)\n",
    "plt.legend(['unigram freq', 'english words set'])\n",
    "plt.title('distribution of guesses by base vocabulary')\n",
    "plt.xlabel('number of guesses')\n",
    "plt.ylabel('count')\n",
    "plt.show()"
   ]
  },
  {
   "cell_type": "code",
   "execution_count": 14,
   "id": "52a55ea9-d083-4932-8d02-862af055fa94",
   "metadata": {},
   "outputs": [
    {
     "data": {
      "text/plain": [
       "KstestResult(statistic=0.3, pvalue=0.7869297884777761)"
      ]
     },
     "execution_count": 14,
     "metadata": {},
     "output_type": "execute_result"
    }
   ],
   "source": [
    "from scipy.stats import ks_2samp\n",
    "\n",
    "ks_2samp(trial_ews, trial_uf)"
   ]
  },
  {
   "cell_type": "code",
   "execution_count": 18,
   "id": "c6e992b0-42ec-49cb-8c70-6acf68495818",
   "metadata": {},
   "outputs": [],
   "source": [
    "ctor = lambda: GradientSolver(similarity_uf)\n",
    "trial_1 = perf.run_trial(ctor, sem_sim, n=10, target_pool=sample_targets)"
   ]
  },
  {
   "cell_type": "code",
   "execution_count": 21,
   "id": "a65aff74-342f-46a6-baf5-2e45bc2a36a3",
   "metadata": {},
   "outputs": [],
   "source": [
    "ctor = lambda: GradientSolver2(similarity_uf)\n",
    "trial_2 = perf.run_trial(ctor, sem_sim, n=10, target_pool=sample_targets)"
   ]
  },
  {
   "cell_type": "code",
   "execution_count": 22,
   "id": "8a0be7e3-74c6-4b5b-afa8-ab873c8313dc",
   "metadata": {},
   "outputs": [
    {
     "data": {
      "text/plain": [
       "(148.3, 87.5)"
      ]
     },
     "execution_count": 22,
     "metadata": {},
     "output_type": "execute_result"
    }
   ],
   "source": [
    "np.mean(trial_1), np.mean(trial_2)"
   ]
  },
  {
   "cell_type": "code",
   "execution_count": 23,
   "id": "4f0c5726-2057-481b-ac2b-883662a4bf21",
   "metadata": {},
   "outputs": [
    {
     "data": {
      "image/png": "[encoded data removed]",
      "text/plain": [
       "<Figure size 648x432 with 1 Axes>"
      ]
     },
     "metadata": {
      "needs_background": "light"
     },
     "output_type": "display_data"
    }
   ],
   "source": [
    "import matplotlib.pyplot as plt\n",
    "\n",
    "plt.figure(figsize=(9,6))\n",
    "plt.hist(trial_1, alpha=0.5, bins=25, zorder=100)\n",
    "plt.hist(trial_2, alpha=0.5, bins=25)\n",
    "plt.legend(['closest embed', 'highest ranked pool'])\n",
    "plt.title('distribution of guesses by base vocabulary')\n",
    "plt.xlabel('number of guesses')\n",
    "plt.ylabel('count')\n",
    "plt.show()"
   ]
  },
  {
   "cell_type": "code",
   "execution_count": 24,
   "id": "eee55d87-1523-4a82-bc2d-5ede96a6a0a2",
   "metadata": {},
   "outputs": [
    {
     "data": {
      "text/plain": [
       "KstestResult(statistic=0.5, pvalue=0.16782134274394334)"
      ]
     },
     "execution_count": 24,
     "metadata": {},
     "output_type": "execute_result"
    }
   ],
   "source": [
    "ks_2samp(trial_1, trial_2)"
   ]
  },
  {
   "cell_type": "markdown",
   "id": "ad310119-544c-4a23-8b0c-915f2bef73a6",
   "metadata": {},
   "source": [
    "## Compare solvers"
   ]
  },
  {
   "cell_type": "code",
   "execution_count": 26,
   "id": "fc4a4f2f-6616-42f8-98b8-6f8aa008d40a",
   "metadata": {},
   "outputs": [
    {
     "data": {
      "text/plain": [
       "((39.6, 23.745315327449326), (31.9, 18.09668477926275))"
      ]
     },
     "execution_count": 26,
     "metadata": {},
     "output_type": "execute_result"
    }
   ],
   "source": [
    "perf.compare(lambda: CohortBayesSolver(similarity_ews, precision=0.1, recall=0.5),\n",
    "             lambda: CohortBayesSolver(similarity_uf, precision=0.1, recall=0.5),\n",
    "             sem_sim,\n",
    "             n=10)"
   ]
  },
  {
   "cell_type": "markdown",
   "id": "7fe4c671-6159-458f-9056-6a6ad80b6f7a",
   "metadata": {},
   "source": [
    "## Evaluate sensitivity"
   ]
  },
  {
   "cell_type": "code",
   "execution_count": 28,
   "id": "49223a9f-3610-40c3-8cfa-320eab497bb5",
   "metadata": {},
   "outputs": [
    {
     "data": {
      "text/plain": [
       "[[19, 25, 40, 35, 40, 20, 8, 17, 24, 11],\n",
       " [68, 20, 59, 54, 44, 61, 83, 17, 21, 18],\n",
       " [118, 82, 51, 275, 195, 35, 98, 104, 141, 72]]"
      ]
     },
     "execution_count": 28,
     "metadata": {},
     "output_type": "execute_result"
    }
   ],
   "source": [
    "uctor = lambda x: CohortBayesSolver(similarity_uf, precision=x, recall=0.5)\n",
    "psweep = [0.05, 0.1, 0.2]\n",
    "sweep_results = perf.run_sweep(uctor, psweep, sem_sim, target_pool=sample_targets)\n",
    "sweep_results"
   ]
  },
  {
   "cell_type": "code",
   "execution_count": 29,
   "id": "fa363f7f-e2ed-4eed-bed4-8b1ad7d834bf",
   "metadata": {},
   "outputs": [
    {
     "data": {
      "text/plain": [
       "[(23.9, 44.5, 117.1),\n",
       " (10.718675291284834, 22.84403642091301, 68.17983572875488)]"
      ]
     },
     "execution_count": 29,
     "metadata": {},
     "output_type": "execute_result"
    }
   ],
   "source": [
    "perf.sweep_norm(sweep_results)"
   ]
  },
  {
   "cell_type": "code",
   "execution_count": null,
   "id": "9050ee1d-4ca9-40d7-9c53-ea34ee8b8be3",
   "metadata": {},
   "outputs": [],
   "source": []
  }
 ],
 "metadata": {
  "kernelspec": {
   "display_name": "Python 3 (ipykernel)",
   "language": "python",
   "name": "python3"
  },
  "language_info": {
   "codemirror_mode": {
    "name": "ipython",
    "version": 3
   },
   "file_extension": ".py",
   "mimetype": "text/x-python",
   "name": "python",
   "nbconvert_exporter": "python",
   "pygments_lexer": "ipython3",
   "version": "3.9.10"
  }
 },
 "nbformat": 4,
 "nbformat_minor": 5
}
