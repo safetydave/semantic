{
 "cells": [
  {
   "cell_type": "markdown",
   "id": "3d3b6c8f-3d35-423b-8369-3fce6608f14c",
   "metadata": {
    "tags": []
   },
   "source": [
    "# Check target word is in vocabulary"
   ]
  },
  {
   "cell_type": "code",
   "execution_count": 1,
   "id": "3b275937-0216-4ac3-8f8d-6a05c1df80fa",
   "metadata": {},
   "outputs": [
    {
     "data": {
      "text/plain": [
       "False"
      ]
     },
     "execution_count": 1,
     "metadata": {},
     "output_type": "execute_result"
    }
   ],
   "source": [
    "from english_words import english_words_set\n",
    "\n",
    "\"worried\" in english_words_set"
   ]
  },
  {
   "cell_type": "markdown",
   "id": "de6839e8-a1d2-4e6a-8bae-e90eee833348",
   "metadata": {},
   "source": [
    "# Explore word frequency from unigram data"
   ]
  },
  {
   "cell_type": "code",
   "execution_count": 2,
   "id": "4d2ba515-b3e4-4748-9ff2-2ff168502b21",
   "metadata": {},
   "outputs": [
    {
     "data": {
      "text/html": [
       "<div>\n",
       "<style scoped>\n",
       "    .dataframe tbody tr th:only-of-type {\n",
       "        vertical-align: middle;\n",
       "    }\n",
       "\n",
       "    .dataframe tbody tr th {\n",
       "        vertical-align: top;\n",
       "    }\n",
       "\n",
       "    .dataframe thead th {\n",
       "        text-align: right;\n",
       "    }\n",
       "</style>\n",
       "<table border=\"1\" class=\"dataframe\">\n",
       "  <thead>\n",
       "    <tr style=\"text-align: right;\">\n",
       "      <th></th>\n",
       "      <th>count</th>\n",
       "    </tr>\n",
       "    <tr>\n",
       "      <th>word</th>\n",
       "      <th></th>\n",
       "    </tr>\n",
       "  </thead>\n",
       "  <tbody>\n",
       "    <tr>\n",
       "      <th>the</th>\n",
       "      <td>23135851162</td>\n",
       "    </tr>\n",
       "    <tr>\n",
       "      <th>of</th>\n",
       "      <td>13151942776</td>\n",
       "    </tr>\n",
       "    <tr>\n",
       "      <th>and</th>\n",
       "      <td>12997637966</td>\n",
       "    </tr>\n",
       "    <tr>\n",
       "      <th>to</th>\n",
       "      <td>12136980858</td>\n",
       "    </tr>\n",
       "    <tr>\n",
       "      <th>a</th>\n",
       "      <td>9081174698</td>\n",
       "    </tr>\n",
       "  </tbody>\n",
       "</table>\n",
       "</div>"
      ],
      "text/plain": [
       "            count\n",
       "word             \n",
       "the   23135851162\n",
       "of    13151942776\n",
       "and   12997637966\n",
       "to    12136980858\n",
       "a      9081174698"
      ]
     },
     "execution_count": 2,
     "metadata": {},
     "output_type": "execute_result"
    }
   ],
   "source": [
    "import pandas as pd\n",
    "\n",
    "#from https://www.kaggle.com/datasets/rtatman/english-word-frequency\n",
    "freq_df = pd.read_csv('data/unigram_freq.csv').set_index('word')\n",
    "freq_df.head()"
   ]
  },
  {
   "cell_type": "code",
   "execution_count": 134,
   "id": "a76df6a8-818e-4edc-88c5-99cf01d57cac",
   "metadata": {},
   "outputs": [
    {
     "data": {
      "image/png": "[encoded data removed]",
      "text/plain": [
       "<Figure size 432x288 with 1 Axes>"
      ]
     },
     "metadata": {
      "needs_background": "light"
     },
     "output_type": "display_data"
    }
   ],
   "source": [
    "import matplotlib.pyplot as plt\n",
    "\n",
    "plt.plot(list(freq_df['count']))\n",
    "plt.xscale('log')\n",
    "plt.yscale('log')\n",
    "plt.grid('on')\n",
    "plt.xlabel('word rank')\n",
    "plt.ylabel('word count')\n",
    "plt.title('distribution of word counts, unigram data')\n",
    "plt.show()"
   ]
  },
  {
   "cell_type": "markdown",
   "id": "ebf2717f-3c51-4cf5-aff3-60529e8d01f0",
   "metadata": {},
   "source": [
    "# Frequency of vocabulary words\n",
    "\n",
    "How does it compare to unigram_freq?"
   ]
  },
  {
   "cell_type": "code",
   "execution_count": 135,
   "id": "825a9e66-a9be-455a-80f7-0f6b4bebb0fc",
   "metadata": {},
   "outputs": [
    {
     "name": "stdout",
     "output_type": "stream",
     "text": [
      "25487\n"
     ]
    },
    {
     "data": {
      "text/html": [
       "<div>\n",
       "<style scoped>\n",
       "    .dataframe tbody tr th:only-of-type {\n",
       "        vertical-align: middle;\n",
       "    }\n",
       "\n",
       "    .dataframe tbody tr th {\n",
       "        vertical-align: top;\n",
       "    }\n",
       "\n",
       "    .dataframe thead th {\n",
       "        text-align: right;\n",
       "    }\n",
       "</style>\n",
       "<table border=\"1\" class=\"dataframe\">\n",
       "  <thead>\n",
       "    <tr style=\"text-align: right;\">\n",
       "      <th></th>\n",
       "      <th>position</th>\n",
       "    </tr>\n",
       "    <tr>\n",
       "      <th>word</th>\n",
       "      <th></th>\n",
       "    </tr>\n",
       "  </thead>\n",
       "  <tbody>\n",
       "    <tr>\n",
       "      <th>hinman</th>\n",
       "      <td>0</td>\n",
       "    </tr>\n",
       "    <tr>\n",
       "      <th>pickman</th>\n",
       "      <td>1</td>\n",
       "    </tr>\n",
       "    <tr>\n",
       "      <th>julia</th>\n",
       "      <td>2</td>\n",
       "    </tr>\n",
       "    <tr>\n",
       "      <th>mascara</th>\n",
       "      <td>3</td>\n",
       "    </tr>\n",
       "    <tr>\n",
       "      <th>femoral</th>\n",
       "      <td>4</td>\n",
       "    </tr>\n",
       "  </tbody>\n",
       "</table>\n",
       "</div>"
      ],
      "text/plain": [
       "         position\n",
       "word             \n",
       "hinman          0\n",
       "pickman         1\n",
       "julia           2\n",
       "mascara         3\n",
       "femoral         4"
      ]
     },
     "execution_count": 135,
     "metadata": {},
     "output_type": "execute_result"
    }
   ],
   "source": [
    "vocabulary_df = pd.DataFrame([[w.lower(), i] for i, w in enumerate(english_words_set)],\n",
    "                          columns=['word', 'position']).set_index('word')\n",
    "print(len(vocabulary_df.index))\n",
    "vocabulary_df.head()"
   ]
  },
  {
   "cell_type": "code",
   "execution_count": 136,
   "id": "f3c53450-429c-4e16-b48d-298ee56dba4c",
   "metadata": {},
   "outputs": [
    {
     "name": "stdout",
     "output_type": "stream",
     "text": [
      "rows 25487\n",
      "null counts 1553\n"
     ]
    },
    {
     "data": {
      "text/html": [
       "<div>\n",
       "<style scoped>\n",
       "    .dataframe tbody tr th:only-of-type {\n",
       "        vertical-align: middle;\n",
       "    }\n",
       "\n",
       "    .dataframe tbody tr th {\n",
       "        vertical-align: top;\n",
       "    }\n",
       "\n",
       "    .dataframe thead th {\n",
       "        text-align: right;\n",
       "    }\n",
       "</style>\n",
       "<table border=\"1\" class=\"dataframe\">\n",
       "  <thead>\n",
       "    <tr style=\"text-align: right;\">\n",
       "      <th></th>\n",
       "      <th>word</th>\n",
       "      <th>count</th>\n",
       "      <th>position</th>\n",
       "    </tr>\n",
       "  </thead>\n",
       "  <tbody>\n",
       "    <tr>\n",
       "      <th>hinman</th>\n",
       "      <td>hinman</td>\n",
       "      <td>135110.0</td>\n",
       "      <td>0</td>\n",
       "    </tr>\n",
       "    <tr>\n",
       "      <th>pickman</th>\n",
       "      <td>pickman</td>\n",
       "      <td>23710.0</td>\n",
       "      <td>1</td>\n",
       "    </tr>\n",
       "    <tr>\n",
       "      <th>julia</th>\n",
       "      <td>julia</td>\n",
       "      <td>7556335.0</td>\n",
       "      <td>2</td>\n",
       "    </tr>\n",
       "    <tr>\n",
       "      <th>mascara</th>\n",
       "      <td>mascara</td>\n",
       "      <td>842185.0</td>\n",
       "      <td>3</td>\n",
       "    </tr>\n",
       "    <tr>\n",
       "      <th>femoral</th>\n",
       "      <td>femoral</td>\n",
       "      <td>627670.0</td>\n",
       "      <td>4</td>\n",
       "    </tr>\n",
       "  </tbody>\n",
       "</table>\n",
       "</div>"
      ],
      "text/plain": [
       "            word      count  position\n",
       "hinman    hinman   135110.0         0\n",
       "pickman  pickman    23710.0         1\n",
       "julia      julia  7556335.0         2\n",
       "mascara  mascara   842185.0         3\n",
       "femoral  femoral   627670.0         4"
      ]
     },
     "execution_count": 136,
     "metadata": {},
     "output_type": "execute_result"
    }
   ],
   "source": [
    "vocab_freq_df = freq_df.join(vocabulary_df, on='word', how='right')\n",
    "print('rows', len(vocab_freq_df.index))\n",
    "print('null counts', vocab_freq_df['count'].isnull().sum())\n",
    "vocab_freq_df.head()"
   ]
  },
  {
   "cell_type": "code",
   "execution_count": 137,
   "id": "a24f6d5f-34cc-436d-94ab-228b617807ca",
   "metadata": {},
   "outputs": [
    {
     "data": {
      "image/png": "[encoded data removed]",
      "text/plain": [
       "<Figure size 648x432 with 1 Axes>"
      ]
     },
     "metadata": {
      "needs_background": "light"
     },
     "output_type": "display_data"
    }
   ],
   "source": [
    "unigram_freq = list(freq_df['count'][:len(vocab_freq_df.index)])\n",
    "vocab_freq = list(vocab_freq_df.sort_values('count', ascending=False)['count'])\n",
    "\n",
    "plt.figure(figsize=(9,6))\n",
    "plt.plot(unigram_freq)\n",
    "plt.plot(vocab_freq)\n",
    "#plt.xscale('log')\n",
    "plt.yscale('log')\n",
    "plt.grid('on')\n",
    "plt.xlabel('word rank')\n",
    "plt.ylabel('word count')\n",
    "plt.title('distribution of word counts')\n",
    "plt.legend(['unigram freq','english words set'])\n",
    "plt.show()"
   ]
  },
  {
   "cell_type": "code",
   "execution_count": 138,
   "id": "2d9b74e3-0e7a-400d-8997-0506799c9e29",
   "metadata": {},
   "outputs": [
    {
     "data": {
      "image/png": "[encoded data removed]",
      "text/plain": [
       "<Figure size 432x288 with 1 Axes>"
      ]
     },
     "metadata": {
      "needs_background": "light"
     },
     "output_type": "display_data"
    }
   ],
   "source": [
    "plt.plot([a - b for a, b in zip(unigram_freq, vocab_freq)], c='tab:green')\n",
    "plt.yscale('log')\n",
    "plt.grid('on')\n",
    "plt.xlabel('word rank')\n",
    "plt.ylabel('word count')\n",
    "plt.title('delta word counts (unigram_freq - english_words)')\n",
    "plt.show()"
   ]
  },
  {
   "cell_type": "markdown",
   "id": "1908d943-7286-434a-b5ab-336a3497b589",
   "metadata": {},
   "source": [
    "The words in unigram_freg are much more common (according to unigram_freq) than english_words. This is expected given unigram_freq is ordered descending, but we can see the magnitude."
   ]
  },
  {
   "cell_type": "markdown",
   "id": "defe47c8-a737-49c7-8f96-ab1b7199d94a",
   "metadata": {},
   "source": [
    "# Comparing word sets\n",
    "\n",
    "Are the words we'd lose from vocab more or less likely guesses than the words we'd gain from unigram_freq?"
   ]
  },
  {
   "cell_type": "code",
   "execution_count": 139,
   "id": "472f844e-4c60-4525-b984-d7d147dc5b9d",
   "metadata": {},
   "outputs": [
    {
     "data": {
      "text/plain": [
       "(23927, 1553)"
      ]
     },
     "execution_count": 139,
     "metadata": {},
     "output_type": "execute_result"
    }
   ],
   "source": [
    "unigram_set = set(freq_df.index)\n",
    "vocab_set = set(vocabulary_df.index)\n",
    "\n",
    "in_both = unigram_set.intersection(vocab_set)\n",
    "in_vocab_only = vocab_set.difference(unigram_set)\n",
    "len(in_both), len(in_vocab_only)"
   ]
  },
  {
   "cell_type": "code",
   "execution_count": 140,
   "id": "f36bdcf3-78ed-437c-bb9c-5081f107686f",
   "metadata": {},
   "outputs": [
    {
     "data": {
      "text/plain": [
       "['freeload',\n",
       " 'neuroanatomic',\n",
       " 'piggish',\n",
       " 'effloresce',\n",
       " 'superlunary',\n",
       " 'betoken',\n",
       " 'extoller',\n",
       " \"can't\",\n",
       " 'schizomycetes',\n",
       " 'uniplex',\n",
       " 'connubial',\n",
       " 'incombustible',\n",
       " 'strabismic',\n",
       " 'doltish',\n",
       " 'mudsling',\n",
       " 'ulcerate',\n",
       " 'gyrocompass',\n",
       " 'prussic',\n",
       " 'nutcrack',\n",
       " \"s's\"]"
      ]
     },
     "execution_count": 140,
     "metadata": {},
     "output_type": "execute_result"
    }
   ],
   "source": [
    "import random\n",
    "\n",
    "random.sample(list(in_vocab_only), 20)"
   ]
  },
  {
   "cell_type": "code",
   "execution_count": 142,
   "id": "c4b50d73-5b1d-4c76-8793-43c711d28738",
   "metadata": {},
   "outputs": [
    {
     "data": {
      "text/plain": [
       "['mcmaster',\n",
       " 'graphically',\n",
       " 'harmonica',\n",
       " 'coz',\n",
       " 'appointing',\n",
       " 'sligo',\n",
       " 'irresponsible',\n",
       " 'gaia',\n",
       " 'solarium',\n",
       " 'cheesy',\n",
       " 'fishers',\n",
       " 'malachi',\n",
       " 'attaining',\n",
       " 'descend',\n",
       " 'noch',\n",
       " 'rocked',\n",
       " 'hsa',\n",
       " 'gtp',\n",
       " 'consciously',\n",
       " 'mikhail']"
      ]
     },
     "execution_count": 142,
     "metadata": {},
     "output_type": "execute_result"
    }
   ],
   "source": [
    "random.sample(list(freq_df.index[len(in_both):len(vocabulary_df.index)]), 20)"
   ]
  },
  {
   "cell_type": "markdown",
   "id": "b6006998-ad66-4926-84f5-dccdea7ce164",
   "metadata": {},
   "source": [
    "The samples of words in_vocab_only typically contain 1/3-1/2 the recognisable words as the corresponding index from unigram_freq (according to me)"
   ]
  },
  {
   "cell_type": "code",
   "execution_count": null,
   "id": "8ab4d04b-59fd-4c1c-a36c-5327b512b867",
   "metadata": {},
   "outputs": [],
   "source": []
  }
 ],
 "metadata": {
  "kernelspec": {
   "display_name": "Python 3 (ipykernel)",
   "language": "python",
   "name": "python3"
  },
  "language_info": {
   "codemirror_mode": {
    "name": "ipython",
    "version": 3
   },
   "file_extension": ".py",
   "mimetype": "text/x-python",
   "name": "python",
   "nbconvert_exporter": "python",
   "pygments_lexer": "ipython3",
   "version": "3.9.10"
  }
 },
 "nbformat": 4,
 "nbformat_minor": 5
}
